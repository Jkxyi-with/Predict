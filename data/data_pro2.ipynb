{
 "cells": [
  {
   "cell_type": "code",
   "execution_count": 1,
   "id": "01270a8d",
   "metadata": {},
   "outputs": [],
   "source": [
    "# 📘 1. 导入库\n",
    "import pandas as pd\n",
    "\n",
    "# 📘 2. 定义特征构造函数\n",
    "def add_behavior_features(user_df, full_log_df, end_day):\n",
    "    full_log_df[\"time\"] = pd.to_datetime(full_log_df[\"timestamp\"], unit=\"s\")\n",
    "    full_log_df = full_log_df[full_log_df[\"time\"] <= pd.to_datetime(end_day)]\n",
    "\n",
    "    agg = full_log_df.groupby([\"user_id\", \"behavior_type\"]).size().unstack(fill_value=0)\n",
    "    for b in [\"buy\", \"cart\", \"fav\", \"pv\"]:\n",
    "        if b not in agg.columns:\n",
    "            agg[b] = 0\n",
    "    agg = agg.reset_index()\n",
    "\n",
    "    agg[\"total_act\"] = agg[[\"buy\", \"cart\", \"fav\", \"pv\"]].sum(axis=1) + 1e-5\n",
    "    for col in [\"buy\", \"cart\", \"fav\", \"pv\"]:\n",
    "        agg[f\"ratio_{col}\"] = agg[col] / agg[\"total_act\"]\n",
    "\n",
    "    def behavior_last_n_days(n):\n",
    "        cutoff = pd.to_datetime(end_day) - pd.Timedelta(days=n)\n",
    "        df_n = full_log_df[full_log_df[\"time\"] >= cutoff]\n",
    "        df_n = df_n.groupby([\"user_id\", \"behavior_type\"]).size().unstack(fill_value=0)\n",
    "        df_n.columns = [f\"{col}_last{n}d\" for col in df_n.columns]\n",
    "        return df_n.reset_index()\n",
    "\n",
    "    last1d = behavior_last_n_days(1)\n",
    "    last3d = behavior_last_n_days(3)\n",
    "\n",
    "    feat_df = agg.merge(last1d, how=\"left\", on=\"user_id\").merge(last3d, how=\"left\", on=\"user_id\")\n",
    "    feat_df = feat_df.fillna(0)\n",
    "\n",
    "    out_df = user_df.merge(feat_df, on=\"user_id\", how=\"left\").fillna(0)\n",
    "    return out_df\n"
   ]
  },
  {
   "cell_type": "code",
   "execution_count": 2,
   "id": "57322df5",
   "metadata": {},
   "outputs": [],
   "source": [
    "# 📘 3. 加载全量行为数据\n",
    "full_log = pd.read_csv(\"data/UserBehavior.csv\", header=None,\n",
    "                       names=[\"user_id\", \"item_id\", \"category_id\", \"behavior_type\", \"timestamp\"])\n"
   ]
  },
  {
   "cell_type": "code",
   "execution_count": 3,
   "id": "db9ed0c0",
   "metadata": {},
   "outputs": [
    {
     "name": "stdout",
     "output_type": "stream",
     "text": [
      "✅ 训练集保存完毕\n"
     ]
    }
   ],
   "source": [
    "# 📘 4. 处理训练集\n",
    "train_user = pd.read_csv(\"data/train_u.csv\")\n",
    "train_df = add_behavior_features(train_user, full_log, \"2017-12-01\")\n",
    "train_df.to_csv(\"data/train_f.csv\", index=False)\n",
    "print(\"✅ 训练集保存完毕\")\n"
   ]
  },
  {
   "cell_type": "code",
   "execution_count": 4,
   "id": "62882626",
   "metadata": {},
   "outputs": [
    {
     "name": "stdout",
     "output_type": "stream",
     "text": [
      "✅ 验证集保存完毕\n"
     ]
    }
   ],
   "source": [
    "# 📘 5. 处理验证集\n",
    "val_user = pd.read_csv(\"data/valid_u.csv\")\n",
    "val_df = add_behavior_features(val_user, full_log, \"2017-12-02\")\n",
    "val_df.to_csv(\"data/val_f.csv\", index=False)\n",
    "print(\"✅ 验证集保存完毕\")\n"
   ]
  },
  {
   "cell_type": "code",
   "execution_count": 5,
   "id": "3dcde467",
   "metadata": {},
   "outputs": [
    {
     "name": "stdout",
     "output_type": "stream",
     "text": [
      "✅ 测试集保存完毕\n"
     ]
    }
   ],
   "source": [
    "# 📘 6. 处理测试集\n",
    "test_user = pd.read_csv(\"data/test_u.csv\")\n",
    "test_df = add_behavior_features(test_user, full_log, \"2017-12-03\")\n",
    "test_df.to_csv(\"data/test_f.csv\", index=False)\n",
    "print(\"✅ 测试集保存完毕\")\n"
   ]
  }
 ],
 "metadata": {
  "kernelspec": {
   "display_name": "predict",
   "language": "python",
   "name": "python3"
  },
  "language_info": {
   "codemirror_mode": {
    "name": "ipython",
    "version": 3
   },
   "file_extension": ".py",
   "mimetype": "text/x-python",
   "name": "python",
   "nbconvert_exporter": "python",
   "pygments_lexer": "ipython3",
   "version": "3.11.13"
  }
 },
 "nbformat": 4,
 "nbformat_minor": 5
}
